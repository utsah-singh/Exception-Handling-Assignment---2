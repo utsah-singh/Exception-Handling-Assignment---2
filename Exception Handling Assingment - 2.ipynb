{
 "cells": [
  {
   "cell_type": "markdown",
   "id": "0a068862-0b19-40f0-9804-302643863999",
   "metadata": {},
   "source": [
    "Answer = 1"
   ]
  },
  {
   "cell_type": "markdown",
   "id": "4f0329a3-72fb-48be-ac40-e75c88e1cbc2",
   "metadata": {},
   "source": [
    "When creating a custom exception in a programming language like Python, it is typically advisable to inherit from the built-in 'Exception' class or one of its subclasses. Here's why:\n",
    "\n",
    "1 * Consistency and Compatibility: Inheriting from the 'Exception' class ensures that your custom exception behaves consistently with other built-in exceptions. It ensures compatibility with exception handling mechanisms provided by the language, such as 'try...except' blocks.\n",
    "\n",
    "2 * Error Handling: By inheriting from 'Exception', your custom exception can be caught along with other standard exceptions in the same 'except' block. This makes error handling more convenient and coherent, as you can handle your custom exceptions in the same way as built-in exceptions.\n",
    "\n",
    "3 * Clarity and Readability: Using 'Exception' as the base class for your custom exceptions makes your code more readable and understandable for other developers. When someone else reads your code, they immediately recognize that your custom exception is an exception and should be handled accordingly.\n",
    "\n",
    "4 * Future Compatibility: Inheriting from 'Exception' ensures that your custom exception will be compatible with future changes and updates to the language. It reduces the risk of unexpected behavior caused by changes in the exception handling mechanism.\n",
    "\n",
    "5 * Documentation and Intention: Inheriting from 'Exception' serves as documentation for your code, clearly indicating that your class is intended to represent an exception. It communicates your intention to other developers and helps maintain code clarity.\n",
    "\n",
    "In summary, using the 'Exception' class as the base class for custom exceptions promotes consistency, compatibility, readability, and future-proofing in your codebase, making it easier to understand and maintain."
   ]
  },
  {
   "cell_type": "markdown",
   "id": "471d526a-716b-42ca-a060-04ec6aede4fe",
   "metadata": {},
   "source": [
    "Answer = 2"
   ]
  },
  {
   "cell_type": "markdown",
   "id": "62fc522d-409d-415d-9cfb-8fe4ff18391b",
   "metadata": {},
   "source": [
    "You can print the Python exception hierarchy using the print() function along with the __mro__ attribute of any exception class. Here's a Python program to achieve that:"
   ]
  },
  {
   "cell_type": "code",
   "execution_count": 1,
   "id": "c185a08e-21bd-4ef7-a39d-c3ad8a02538e",
   "metadata": {},
   "outputs": [
    {
     "name": "stdout",
     "output_type": "stream",
     "text": [
      "Python Exception Hierarchy:\n",
      "<class 'BaseException'>\n",
      "    <class 'Exception'>\n",
      "        <class 'TypeError'>\n",
      "            <class 'decimal.FloatOperation'>\n",
      "            <class 'email.errors.MultipartConversionError'>\n",
      "        <class 'StopAsyncIteration'>\n",
      "        <class 'StopIteration'>\n",
      "        <class 'ImportError'>\n",
      "            <class 'ModuleNotFoundError'>\n",
      "            <class 'zipimport.ZipImportError'>\n",
      "        <class 'OSError'>\n",
      "            <class 'ConnectionError'>\n",
      "                <class 'BrokenPipeError'>\n",
      "                <class 'ConnectionAbortedError'>\n",
      "                <class 'ConnectionRefusedError'>\n",
      "                <class 'ConnectionResetError'>\n",
      "                    <class 'http.client.RemoteDisconnected'>\n",
      "            <class 'BlockingIOError'>\n",
      "            <class 'ChildProcessError'>\n",
      "            <class 'FileExistsError'>\n",
      "            <class 'FileNotFoundError'>\n",
      "            <class 'IsADirectoryError'>\n",
      "            <class 'NotADirectoryError'>\n",
      "            <class 'InterruptedError'>\n",
      "                <class 'zmq.error.InterruptedSystemCall'>\n",
      "            <class 'PermissionError'>\n",
      "            <class 'ProcessLookupError'>\n",
      "            <class 'TimeoutError'>\n",
      "            <class 'io.UnsupportedOperation'>\n",
      "            <class 'signal.itimer_error'>\n",
      "            <class 'socket.herror'>\n",
      "            <class 'socket.gaierror'>\n",
      "            <class 'ssl.SSLError'>\n",
      "                <class 'ssl.SSLCertVerificationError'>\n",
      "                <class 'ssl.SSLZeroReturnError'>\n",
      "                <class 'ssl.SSLWantWriteError'>\n",
      "                <class 'ssl.SSLWantReadError'>\n",
      "                <class 'ssl.SSLSyscallError'>\n",
      "                <class 'ssl.SSLEOFError'>\n",
      "            <class 'shutil.Error'>\n",
      "                <class 'shutil.SameFileError'>\n",
      "            <class 'shutil.SpecialFileError'>\n",
      "            <class 'shutil.ExecError'>\n",
      "            <class 'shutil.ReadError'>\n",
      "            <class 'urllib.error.URLError'>\n",
      "                <class 'urllib.error.HTTPError'>\n",
      "                <class 'urllib.error.ContentTooShortError'>\n",
      "            <class 'gzip.BadGzipFile'>\n",
      "        <class 'EOFError'>\n",
      "            <class 'asyncio.exceptions.IncompleteReadError'>\n",
      "        <class 'RuntimeError'>\n",
      "            <class 'RecursionError'>\n",
      "            <class 'NotImplementedError'>\n",
      "                <class 'zmq.error.ZMQVersionError'>\n",
      "                <class 'IPython.core.error.StdinNotImplementedError'>\n",
      "            <class '_frozen_importlib._DeadlockError'>\n",
      "            <class 'threading.BrokenBarrierError'>\n",
      "            <class 'concurrent.futures._base.BrokenExecutor'>\n",
      "                <class 'concurrent.futures.thread.BrokenThreadPool'>\n",
      "            <class 'asyncio.exceptions.SendfileNotAvailableError'>\n",
      "            <class 'pkg_resources.ExtractionError'>\n",
      "            <class '_pydevd_bundle.pydevd_vars.VariableError'>\n",
      "        <class 'NameError'>\n",
      "            <class 'UnboundLocalError'>\n",
      "        <class 'AttributeError'>\n",
      "            <class 'dataclasses.FrozenInstanceError'>\n",
      "        <class 'SyntaxError'>\n",
      "            <class 'IndentationError'>\n",
      "                <class 'TabError'>\n",
      "        <class 'LookupError'>\n",
      "            <class 'IndexError'>\n",
      "            <class 'KeyError'>\n",
      "                <class 'jupyter_client.kernelspec.NoSuchKernel'>\n",
      "                <class 'IPython.terminal.pt_inputhooks.UnknownBackend'>\n",
      "            <class 'encodings.CodecRegistryError'>\n",
      "        <class 'ValueError'>\n",
      "            <class 'UnicodeError'>\n",
      "                <class 'UnicodeEncodeError'>\n",
      "                <class 'UnicodeDecodeError'>\n",
      "                <class 'UnicodeTranslateError'>\n",
      "            <class 'io.UnsupportedOperation'>\n",
      "            <class 'json.decoder.JSONDecodeError'>\n",
      "            <class 'ssl.SSLCertVerificationError'>\n",
      "            <class 'binascii.Error'>\n",
      "            <class '_hashlib.UnsupportedDigestmodError'>\n",
      "            <class 'calendar.IllegalMonthError'>\n",
      "            <class 'calendar.IllegalWeekdayError'>\n",
      "            <class 'dateutil.parser._parser.ParserError'>\n",
      "            <class 'pygments.util.ClassNotFound'>\n",
      "            <class 'IPython.lib.clipboard.ClipboardEmpty'>\n",
      "            <class 'email.errors.MessageDefect'>\n",
      "                <class 'email.errors.NoBoundaryInMultipartDefect'>\n",
      "                <class 'email.errors.StartBoundaryNotFoundDefect'>\n",
      "                <class 'email.errors.CloseBoundaryNotFoundDefect'>\n",
      "                <class 'email.errors.FirstHeaderLineIsContinuationDefect'>\n",
      "                <class 'email.errors.MisplacedEnvelopeHeaderDefect'>\n",
      "                <class 'email.errors.MissingHeaderBodySeparatorDefect'>\n",
      "                <class 'email.errors.MultipartInvariantViolationDefect'>\n",
      "                <class 'email.errors.InvalidMultipartContentTransferEncodingDefect'>\n",
      "                <class 'email.errors.UndecodableBytesDefect'>\n",
      "                <class 'email.errors.InvalidBase64PaddingDefect'>\n",
      "                <class 'email.errors.InvalidBase64CharactersDefect'>\n",
      "                <class 'email.errors.InvalidBase64LengthDefect'>\n",
      "                <class 'email.errors.HeaderDefect'>\n",
      "                    <class 'email.errors.InvalidHeaderDefect'>\n",
      "                    <class 'email.errors.HeaderMissingRequiredValue'>\n",
      "                    <class 'email.errors.NonPrintableDefect'>\n",
      "                    <class 'email.errors.ObsoleteHeaderDefect'>\n",
      "                    <class 'email.errors.NonASCIILocalPartDefect'>\n",
      "                    <class 'email.errors.InvalidDateDefect'>\n",
      "            <class 'IPython.core.magics.code.MacroToEdit'>\n",
      "            <class 'plistlib.InvalidFileException'>\n",
      "            <class 'pkg_resources._vendor.more_itertools.more.UnequalIterablesError'>\n",
      "            <class 'pkg_resources.extern.packaging.version.InvalidVersion'>\n",
      "            <class 'pkg_resources._vendor.packaging._manylinux._ELFFileHeader._InvalidELFFileHeader'>\n",
      "            <class 'pkg_resources.extern.packaging.utils.InvalidWheelFilename'>\n",
      "            <class 'pkg_resources.extern.packaging.utils.InvalidSdistFilename'>\n",
      "            <class 'pkg_resources.extern.packaging.specifiers.InvalidSpecifier'>\n",
      "            <class 'pkg_resources.extern.packaging.markers.InvalidMarker'>\n",
      "            <class 'pkg_resources.extern.packaging.markers.UndefinedComparison'>\n",
      "            <class 'pkg_resources.extern.packaging.markers.UndefinedEnvironmentName'>\n",
      "            <class 'pkg_resources.extern.packaging.requirements.InvalidRequirement'>\n",
      "                <class 'pkg_resources.RequirementParseError'>\n",
      "            <class 'packaging.version.InvalidVersion'>\n",
      "        <class 'AssertionError'>\n",
      "        <class 'ArithmeticError'>\n",
      "            <class 'FloatingPointError'>\n",
      "            <class 'OverflowError'>\n",
      "            <class 'ZeroDivisionError'>\n",
      "                <class 'decimal.DivisionByZero'>\n",
      "                <class 'decimal.DivisionUndefined'>\n",
      "            <class 'decimal.DecimalException'>\n",
      "                <class 'decimal.Clamped'>\n",
      "                <class 'decimal.Rounded'>\n",
      "                    <class 'decimal.Underflow'>\n",
      "                    <class 'decimal.Overflow'>\n",
      "                <class 'decimal.Inexact'>\n",
      "                    <class 'decimal.Underflow'>\n",
      "                    <class 'decimal.Overflow'>\n",
      "                <class 'decimal.Subnormal'>\n",
      "                    <class 'decimal.Underflow'>\n",
      "                <class 'decimal.DivisionByZero'>\n",
      "                <class 'decimal.FloatOperation'>\n",
      "                <class 'decimal.InvalidOperation'>\n",
      "                    <class 'decimal.ConversionSyntax'>\n",
      "                    <class 'decimal.DivisionImpossible'>\n",
      "                    <class 'decimal.DivisionUndefined'>\n",
      "                    <class 'decimal.InvalidContext'>\n",
      "        <class 'SystemError'>\n",
      "            <class 'encodings.CodecRegistryError'>\n",
      "        <class 'ReferenceError'>\n",
      "        <class 'MemoryError'>\n",
      "        <class 'BufferError'>\n",
      "        <class 'Warning'>\n",
      "            <class 'UserWarning'>\n",
      "                <class 'getpass.GetPassWarning'>\n",
      "                <class 'IPython.core.formatters.FormatterWarning'>\n",
      "            <class 'EncodingWarning'>\n",
      "            <class 'DeprecationWarning'>\n",
      "                <class 'IPython.core.interactiveshell.ProvisionalWarning'>\n",
      "            <class 'PendingDeprecationWarning'>\n",
      "            <class 'SyntaxWarning'>\n",
      "            <class 'RuntimeWarning'>\n",
      "                <class 'zmq.asyncio.ProactorSelectorThreadWarning'>\n",
      "                <class 'dateutil.parser._parser.UnknownTimezoneWarning'>\n",
      "                <class 'pkg_resources.PEP440Warning'>\n",
      "            <class 'FutureWarning'>\n",
      "                <class 'IPython.core.completer.ProvisionalCompleterWarning'>\n",
      "            <class 'ImportWarning'>\n",
      "            <class 'UnicodeWarning'>\n",
      "            <class 'BytesWarning'>\n",
      "            <class 'ResourceWarning'>\n",
      "            <class 'dateutil.tz.DeprecatedTzFormatWarning'>\n",
      "            <class 'pkg_resources.PkgResourcesDeprecationWarning'>\n",
      "        <class 'warnings._OptionError'>\n",
      "        <class 'runpy._Error'>\n",
      "        <class 're.error'>\n",
      "        <class 'sre_parse.Verbose'>\n",
      "        <class 'locale.Error'>\n",
      "        <class 'subprocess.SubprocessError'>\n",
      "            <class 'subprocess.CalledProcessError'>\n",
      "            <class 'subprocess.TimeoutExpired'>\n",
      "        <class 'tokenize.TokenError'>\n",
      "        <class 'tokenize.StopTokenizing'>\n",
      "        <class 'inspect.ClassFoundException'>\n",
      "        <class 'inspect.EndOfBlock'>\n",
      "        <class 'traitlets.traitlets.TraitError'>\n",
      "        <class 'copy.Error'>\n",
      "        <class 'concurrent.futures._base.Error'>\n",
      "            <class 'concurrent.futures._base.CancelledError'>\n",
      "            <class 'concurrent.futures._base.TimeoutError'>\n",
      "            <class 'concurrent.futures._base.InvalidStateError'>\n",
      "        <class 'socket._GiveupOnSendfile'>\n",
      "        <class 'struct.error'>\n",
      "        <class 'binascii.Incomplete'>\n",
      "        <class 'asyncio.exceptions.TimeoutError'>\n",
      "        <class 'asyncio.exceptions.InvalidStateError'>\n",
      "        <class 'asyncio.exceptions.LimitOverrunError'>\n",
      "        <class 'asyncio.queues.QueueEmpty'>\n",
      "        <class 'asyncio.queues.QueueFull'>\n",
      "        <class '_queue.Empty'>\n",
      "        <class 'queue.Full'>\n",
      "        <class 'ctypes.ArgumentError'>\n",
      "        <class 'zmq.error.ZMQBaseError'>\n",
      "            <class 'zmq.error.ZMQError'>\n",
      "                <class 'zmq.error.ContextTerminated'>\n",
      "                <class 'zmq.error.Again'>\n",
      "                <class 'zmq.error.InterruptedSystemCall'>\n",
      "            <class 'zmq.error.ZMQBindError'>\n",
      "            <class 'zmq.error.NotDone'>\n",
      "        <class '_pickle.PickleError'>\n",
      "            <class '_pickle.PicklingError'>\n",
      "            <class '_pickle.UnpicklingError'>\n",
      "        <class 'pickle._Stop'>\n",
      "        <class 'argparse.ArgumentError'>\n",
      "        <class 'argparse.ArgumentTypeError'>\n",
      "        <class 'traitlets.config.loader.ConfigError'>\n",
      "            <class 'traitlets.config.loader.ConfigLoaderError'>\n",
      "                <class 'traitlets.config.loader.ArgumentError'>\n",
      "            <class 'traitlets.config.loader.ConfigFileNotFound'>\n",
      "        <class 'traitlets.config.configurable.ConfigurableError'>\n",
      "            <class 'traitlets.config.configurable.MultipleInstanceError'>\n",
      "        <class 'traitlets.config.application.ApplicationError'>\n",
      "        <class 'zlib.error'>\n",
      "        <class 'tornado.util.TimeoutError'>\n",
      "        <class '_curses.error'>\n",
      "        <class 'tornado.concurrent.ReturnValueIgnoredError'>\n",
      "        <class 'tornado.gen.KeyReuseError'>\n",
      "        <class 'tornado.gen.UnknownKeyError'>\n",
      "        <class 'tornado.gen.LeakedCallbackError'>\n",
      "        <class 'tornado.gen.BadYieldError'>\n",
      "        <class 'tornado.gen.ReturnValueIgnoredError'>\n",
      "        <class 'tornado.gen.Return'>\n",
      "        <class 'jupyter_client.channels.InvalidPortNumber'>\n",
      "        <class 'termios.error'>\n",
      "        <class '_lzma.LZMAError'>\n",
      "        <class 'shutil.RegistryError'>\n",
      "        <class 'shutil._GiveupOnFastCopy'>\n",
      "        <class 'configparser.Error'>\n",
      "            <class 'configparser.NoSectionError'>\n",
      "            <class 'configparser.DuplicateSectionError'>\n",
      "            <class 'configparser.DuplicateOptionError'>\n",
      "            <class 'configparser.NoOptionError'>\n",
      "            <class 'configparser.InterpolationError'>\n",
      "                <class 'configparser.InterpolationMissingOptionError'>\n",
      "                <class 'configparser.InterpolationSyntaxError'>\n",
      "                <class 'configparser.InterpolationDepthError'>\n",
      "            <class 'configparser.ParsingError'>\n",
      "                <class 'configparser.MissingSectionHeaderError'>\n",
      "        <class 'jupyter_client.localinterfaces.NoIPAddresses'>\n",
      "        <class 'zipfile.BadZipFile'>\n",
      "        <class 'zipfile.LargeZipFile'>\n",
      "        <class 'entrypoints.BadEntryPoint'>\n",
      "        <class 'entrypoints.NoSuchEntryPoint'>\n",
      "        <class 'jupyter_client.multikernelmanager.DuplicateKernelError'>\n",
      "        <class 'pydoc.ErrorDuringImport'>\n",
      "        <class 'executing.executing.NotOneValueFound'>\n",
      "        <class 'pure_eval.utils.CannotEval'>\n",
      "        <class 'pygments.util.OptionError'>\n",
      "        <class 'bdb.BdbQuit'>\n",
      "        <class 'pdb.Restart'>\n",
      "        <class 'pexpect.exceptions.ExceptionPexpect'>\n",
      "            <class 'pexpect.exceptions.EOF'>\n",
      "            <class 'pexpect.exceptions.TIMEOUT'>\n",
      "        <class 'ptyprocess.util.PtyProcessError'>\n",
      "        <class 'IPython.utils.process.FindCmdError'>\n",
      "        <class 'IPython.utils.path.HomeDirError'>\n",
      "        <class 'IPython.core.profiledir.ProfileDirError'>\n",
      "        <class 'IPython.core.error.IPythonCoreError'>\n",
      "            <class 'IPython.core.error.TryNext'>\n",
      "            <class 'IPython.core.error.UsageError'>\n",
      "            <class 'IPython.core.error.StdinNotImplementedError'>\n",
      "        <class 'IPython.core.error.InputRejected'>\n",
      "        <class 'getopt.GetoptError'>\n",
      "        <class 'pygments.filters.ErrorToken'>\n",
      "        <class 'IPython.core.prefilter.PrefilterError'>\n",
      "        <class 'IPython.core.alias.AliasError'>\n",
      "            <class 'IPython.core.alias.InvalidAliasError'>\n",
      "        <class 'sqlite3.Error'>\n",
      "            <class 'sqlite3.InterfaceError'>\n",
      "            <class 'sqlite3.DatabaseError'>\n",
      "                <class 'sqlite3.InternalError'>\n",
      "                <class 'sqlite3.OperationalError'>\n",
      "                <class 'sqlite3.ProgrammingError'>\n",
      "                <class 'sqlite3.IntegrityError'>\n",
      "                <class 'sqlite3.DataError'>\n",
      "                <class 'sqlite3.NotSupportedError'>\n",
      "        <class 'sqlite3.Warning'>\n",
      "        <class 'IPython.core.interactiveshell.SpaceInInput'>\n",
      "        <class 'xml.dom.DOMException'>\n",
      "            <class 'xml.dom.IndexSizeErr'>\n",
      "            <class 'xml.dom.DomstringSizeErr'>\n",
      "            <class 'xml.dom.HierarchyRequestErr'>\n",
      "            <class 'xml.dom.WrongDocumentErr'>\n",
      "            <class 'xml.dom.InvalidCharacterErr'>\n",
      "            <class 'xml.dom.NoDataAllowedErr'>\n",
      "            <class 'xml.dom.NoModificationAllowedErr'>\n",
      "            <class 'xml.dom.NotFoundErr'>\n",
      "            <class 'xml.dom.NotSupportedErr'>\n",
      "            <class 'xml.dom.InuseAttributeErr'>\n",
      "            <class 'xml.dom.InvalidStateErr'>\n",
      "            <class 'xml.dom.SyntaxErr'>\n",
      "            <class 'xml.dom.InvalidModificationErr'>\n",
      "            <class 'xml.dom.NamespaceErr'>\n",
      "            <class 'xml.dom.InvalidAccessErr'>\n",
      "            <class 'xml.dom.ValidationErr'>\n",
      "        <class 'prompt_toolkit.validation.ValidationError'>\n",
      "        <class 'prompt_toolkit.buffer.EditReadOnlyBuffer'>\n",
      "        <class 'prompt_toolkit.buffer._Retry'>\n",
      "        <class 'prompt_toolkit.layout.layout.InvalidLayoutError'>\n",
      "        <class 'prompt_toolkit.renderer.HeightIsUnknownError'>\n",
      "        <class 'parso.parser.ParserSyntaxError'>\n",
      "        <class 'parso.parser.InternalParseError'>\n",
      "        <class 'parso.python.diff._PositionUpdatingFinished'>\n",
      "        <class 'jedi.inference.helpers.SimpleGetItemNotFound'>\n",
      "        <class 'jedi.inference.utils.UncaughtAttributeError'>\n",
      "        <class 'jedi.inference.base_value.HasNoContext'>\n",
      "        <class 'jedi.inference.arguments.ParamIssue'>\n",
      "        <class 'jedi.api.exceptions._JediError'>\n",
      "            <class 'jedi.api.exceptions.InternalError'>\n",
      "            <class 'jedi.api.exceptions.WrongVersion'>\n",
      "            <class 'jedi.api.exceptions.RefactoringError'>\n",
      "        <class 'jedi.api.helpers.OnErrorLeaf'>\n",
      "        <class 'jedi.api.environment.InvalidPythonEnvironment'>\n",
      "        <class 'email.errors.MessageError'>\n",
      "            <class 'email.errors.MessageParseError'>\n",
      "                <class 'email.errors.HeaderParseError'>\n",
      "                <class 'email.errors.BoundaryError'>\n",
      "            <class 'email.errors.MultipartConversionError'>\n",
      "            <class 'email.errors.CharsetError'>\n",
      "        <class 'uu.Error'>\n",
      "        <class 'http.client.HTTPException'>\n",
      "            <class 'http.client.NotConnected'>\n",
      "            <class 'http.client.InvalidURL'>\n",
      "            <class 'http.client.UnknownProtocol'>\n",
      "            <class 'http.client.UnknownTransferEncoding'>\n",
      "            <class 'http.client.UnimplementedFileMode'>\n",
      "            <class 'http.client.IncompleteRead'>\n",
      "            <class 'http.client.ImproperConnectionState'>\n",
      "                <class 'http.client.CannotSendRequest'>\n",
      "                <class 'http.client.CannotSendHeader'>\n",
      "                <class 'http.client.ResponseNotReady'>\n",
      "            <class 'http.client.BadStatusLine'>\n",
      "                <class 'http.client.RemoteDisconnected'>\n",
      "            <class 'http.client.LineTooLong'>\n",
      "        <class 'IPython.core.magics.code.InteractivelyDefined'>\n",
      "        <class 'IPython.terminal.embed.KillEmbedded'>\n",
      "        <class 'psutil.Error'>\n",
      "            <class 'psutil.NoSuchProcess'>\n",
      "                <class 'psutil.ZombieProcess'>\n",
      "            <class 'psutil.AccessDenied'>\n",
      "            <class 'psutil.TimeoutExpired'>\n",
      "        <class 'psutil._pslinux._Ipv6UnsupportedError'>\n",
      "        <class 'tornado.queues.QueueEmpty'>\n",
      "        <class 'tornado.queues.QueueFull'>\n",
      "        <class '_pydev_bundle._pydev_saved_modules.DebuggerInitializationError'>\n",
      "        <class 'xml.parsers.expat.ExpatError'>\n",
      "        <class 'xmlrpc.client.Error'>\n",
      "            <class 'xmlrpc.client.ProtocolError'>\n",
      "            <class 'xmlrpc.client.ResponseError'>\n",
      "            <class 'xmlrpc.client.Fault'>\n",
      "        <class 'pkg_resources._vendor.pyparsing.exceptions.ParseBaseException'>\n",
      "            <class 'pkg_resources._vendor.pyparsing.exceptions.ParseException'>\n",
      "            <class 'pkg_resources._vendor.pyparsing.exceptions.ParseFatalException'>\n",
      "                <class 'pkg_resources._vendor.pyparsing.exceptions.ParseSyntaxException'>\n",
      "        <class 'pkg_resources._vendor.pyparsing.exceptions.RecursiveGrammarException'>\n",
      "        <class 'pkg_resources.ResolutionError'>\n",
      "            <class 'pkg_resources.VersionConflict'>\n",
      "                <class 'pkg_resources.ContextualVersionConflict'>\n",
      "            <class 'pkg_resources.DistributionNotFound'>\n",
      "            <class 'pkg_resources.UnknownExtra'>\n",
      "        <class '_pydevd_bundle.pydevd_runpy._Error'>\n",
      "        <class '_pydevd_bundle.pydevd_resolver.UnableToResolveVariableException'>\n",
      "        <class '_pydev_bundle.pydev_monkey.InvalidTypeInArgsException'>\n",
      "    <class 'GeneratorExit'>\n",
      "    <class 'SystemExit'>\n",
      "    <class 'KeyboardInterrupt'>\n",
      "    <class 'asyncio.exceptions.CancelledError'>\n",
      "    <class 'pkg_resources._vendor.more_itertools.more.AbortThread'>\n"
     ]
    }
   ],
   "source": [
    "def print_exception_hierarchy(exception_class, indent=0):\n",
    "    print(' ' * indent + str(exception_class))\n",
    "    for subclass in exception_class.__subclasses__():\n",
    "        print_exception_hierarchy(subclass, indent + 4)\n",
    "\n",
    "print(\"Python Exception Hierarchy:\")\n",
    "print_exception_hierarchy(BaseException)"
   ]
  },
  {
   "cell_type": "markdown",
   "id": "fa96b765-c29e-4ce4-a96a-7c1afac92f25",
   "metadata": {},
   "source": [
    "This code defines a function 'print_exception_hierarchy()' which recursively prints the exception hierarchy starting from the given exception class ''(BaseException in this case', which is the root of the Python exception hierarchy). The indentation level increases as we traverse deeper into the hierarchy. Finally, we call this function with BaseException to print the entire hierarchy."
   ]
  },
  {
   "cell_type": "markdown",
   "id": "ccaaad48-f4e7-4be9-9aab-53222f2e3069",
   "metadata": {},
   "source": [
    "Answer = 3"
   ]
  },
  {
   "cell_type": "markdown",
   "id": "ed75766b-68d4-4ddb-bbf0-b9077f6e556c",
   "metadata": {},
   "source": [
    "The 'ArithmeticError' class in Python represents errors that occur during arithmetic operations. It serves as the base class for various arithmetic-related exception classes. Two commonly encountered errors defined within the ArithmeticError class are 'ZeroDivisionError' and 'OverflowError'."
   ]
  },
  {
   "cell_type": "markdown",
   "id": "ddf7830a-2395-4246-b6ae-152d1dc12369",
   "metadata": {},
   "source": [
    "1 * ZeroDivisionError:\n",
    "\n",
    "This error occurs when you attempt to divide a number by zero, which is mathematically undefined.\n",
    "\n",
    "Example:"
   ]
  },
  {
   "cell_type": "code",
   "execution_count": 3,
   "id": "83fb1d54-6803-4cc4-a6e6-eceb9f8870fb",
   "metadata": {},
   "outputs": [
    {
     "name": "stdout",
     "output_type": "stream",
     "text": [
      "Error: division by zero\n"
     ]
    }
   ],
   "source": [
    "try:\n",
    "    result = 10 / 0\n",
    "except ZeroDivisionError as e:\n",
    "    print(\"Error:\", e)"
   ]
  },
  {
   "cell_type": "markdown",
   "id": "3670eac0-b078-4c8b-b69e-48ff17226e93",
   "metadata": {},
   "source": [
    "2 * OverflowError:\n",
    "\n",
    "This error occurs when an arithmetic operation exceeds the maximum limit of the data type being used.\n",
    "\n",
    "Example:"
   ]
  },
  {
   "cell_type": "code",
   "execution_count": 8,
   "id": "64925b4e-39af-4511-9339-2b394e876e72",
   "metadata": {},
   "outputs": [],
   "source": [
    "import sys\n",
    "try:\n",
    "    result = sys.maxsize + 1\n",
    "except OverflowError as e:\n",
    "    print(\"Error:\", e)"
   ]
  },
  {
   "cell_type": "markdown",
   "id": "a0ed30e3-3fca-42ac-8bd1-7e50c30c6160",
   "metadata": {},
   "source": [
    "\n",
    "In both examples, the operations being performed result in arithmetic errors. In the first example, attempting to divide by zero raises a ZeroDivisionError, while in the second example, attempting to exceed the maximum size of an integer raises an OverflowError. These errors are instances of ArithmeticError as they represent issues related to arithmetic operations.\n",
    "\n",
    "\n",
    "\n",
    "\n"
   ]
  },
  {
   "cell_type": "markdown",
   "id": "3bcdfc34-3818-466e-ac33-41643b083fe0",
   "metadata": {},
   "source": [
    "Answer =  4"
   ]
  },
  {
   "cell_type": "markdown",
   "id": "a614b5bd-17b7-469f-9a43-0eb3e6eaac44",
   "metadata": {},
   "source": [
    "The 'LookupError' class in Python is used as a base class for exceptions that occur when a key or index used to access a container (such as a dictionary or a list) is invalid or not found. It serves as a parent class for exceptions like 'KeyError' and 'IndexError'.\n",
    "\n",
    "1 * KeyError:\n",
    "\n",
    "This exception occurs when a dictionary key is not found during a lookup operation.\n",
    "\n",
    "Example:"
   ]
  },
  {
   "cell_type": "code",
   "execution_count": 9,
   "id": "6fe7ba74-8af0-4cc1-8146-3b83edee3cdc",
   "metadata": {},
   "outputs": [
    {
     "name": "stdout",
     "output_type": "stream",
     "text": [
      "Error: 'd'\n"
     ]
    }
   ],
   "source": [
    "my_dict = {'a': 1, 'b': 2, 'c': 3}\n",
    "try:\n",
    "    value = my_dict['d']  # 'd' is not a key in the dictionary\n",
    "except KeyError as e:\n",
    "    print(\"Error:\", e)"
   ]
  },
  {
   "cell_type": "markdown",
   "id": "a8ede1d0-6374-4aa4-992e-90f7629e6069",
   "metadata": {},
   "source": [
    "2 * IndexError:\n",
    "\n",
    "This exception occurs when trying to access an index in a sequence (like a list or tuple) that does not exist or is out of range.\n",
    "\n",
    "Example:"
   ]
  },
  {
   "cell_type": "code",
   "execution_count": 10,
   "id": "9d94cb82-00d8-4597-beba-c99d50d6d55a",
   "metadata": {},
   "outputs": [
    {
     "name": "stdout",
     "output_type": "stream",
     "text": [
      "Error: list index out of range\n"
     ]
    }
   ],
   "source": [
    "my_list = [1, 2, 3]\n",
    "try:\n",
    "    value = my_list[3]  # Accessing index 3 which is out of range\n",
    "except IndexError as e:\n",
    "    print(\"Error:\", e)"
   ]
  },
  {
   "cell_type": "markdown",
   "id": "ed5705cb-4259-4657-ade2-b446e0ca7ac3",
   "metadata": {},
   "source": [
    "In both examples, the code attempts to access elements using keys or indexes that do not exist or are out of range. These errors are instances of LookupError, as they represent failures in looking up or accessing elements within a data structure. The LookupError class provides a common base for handling such lookup-related exceptions in a uniform manner."
   ]
  },
  {
   "cell_type": "markdown",
   "id": "5c3d0670-772f-4b5e-93df-cf2a6f3d76a2",
   "metadata": {},
   "source": [
    "Answer = 5"
   ]
  },
  {
   "cell_type": "markdown",
   "id": "06ba5ee7-ff42-4668-924b-2e273b48f314",
   "metadata": {},
   "source": [
    "'ImportError' and 'ModuleNotFoundError' are both exceptions in Python that occur when there are problems with importing modules. Let's explain each of them:\n",
    "\n",
    "1 * ImportError:\n",
    "\n",
    "ImportError is a base class for exceptions that occur when an import statement fails to find the module being imported or when there is an issue with importing a module. This can happen due to various reasons such as:\n",
    "\n",
    "* The module does not exist.\n",
    "* The module is not installed.\n",
    "* There is an issue with the module's code that prevents it from being imported.\n",
    "Example:"
   ]
  },
  {
   "cell_type": "code",
   "execution_count": 11,
   "id": "5f3504d0-d7a7-43ed-9fab-052d6e2b6bce",
   "metadata": {},
   "outputs": [
    {
     "name": "stdout",
     "output_type": "stream",
     "text": [
      "Error: No module named 'non_existent_module'\n"
     ]
    }
   ],
   "source": [
    "try:\n",
    "    import non_existent_module\n",
    "except ImportError as e:\n",
    "    print(\"Error:\", e)"
   ]
  },
  {
   "cell_type": "markdown",
   "id": "ace97d1d-d4b1-4183-9bfa-2d0deef9e0a5",
   "metadata": {},
   "source": [
    "Here, the ImportError is raised because Python cannot find the module named non_existent_module."
   ]
  },
  {
   "cell_type": "markdown",
   "id": "1e306997-1d90-4c9b-8aee-5437b8876595",
   "metadata": {},
   "source": [
    "2 . ModuleNotFoundError:\n",
    "\n",
    "ModuleNotFoundError is a subclass of ImportError introduced in Python 3.6. It specifically occurs when Python cannot locate the module specified in the import statement.\n",
    "\n",
    "Example:"
   ]
  },
  {
   "cell_type": "code",
   "execution_count": 12,
   "id": "eb9a1e85-f771-4653-9bd4-65d682e9432c",
   "metadata": {},
   "outputs": [
    {
     "name": "stdout",
     "output_type": "stream",
     "text": [
      "Error: No module named 'non_existent_module'\n"
     ]
    }
   ],
   "source": [
    "try:\n",
    "    import non_existent_module\n",
    "except ModuleNotFoundError as e:\n",
    "    print(\"Error:\", e)"
   ]
  },
  {
   "cell_type": "markdown",
   "id": "7f3b1689-8332-4571-b155-692b0e9120c5",
   "metadata": {},
   "source": [
    "Here, ModuleNotFoundError is raised for the same reason as in the previous example. However, starting from Python 3.6, Python provides a more specific exception (ModuleNotFoundError) for cases where a module cannot be found during import.\n",
    "\n",
    "In summary, both ImportError and ModuleNotFoundError indicate issues related to importing modules, with ModuleNotFoundError being a more specific subclass of ImportError introduced in Python 3.6 to provide clearer error messages when a module cannot be found."
   ]
  },
  {
   "cell_type": "markdown",
   "id": "6e5ed56b-84a4-4126-8c42-e9fe42c2754e",
   "metadata": {},
   "source": [
    "Answer = 6\n"
   ]
  },
  {
   "cell_type": "markdown",
   "id": "e0b140d5-4f8b-4e17-baa2-5d8a02d6a39a",
   "metadata": {},
   "source": [
    " \n",
    "1 . Handle Specific Exceptions: Catch only the exceptions you expect and can handle. This helps in maintaining clarity and avoids catching unexpected exceptions that might hide bugs.\n",
    "\n",
    "2. Use try...except Blocks Judiciously: Place only the specific lines of code that might raise exceptions inside the try block. Keep the try block as small as possible to pinpoint where the error might occur.\n",
    "\n",
    "3. Avoid Catching Generic Exceptions: Avoid catching Exception or BaseException unless absolutely necessary, as it may catch unexpected errors and make debugging difficult\n",
    "4. Use finally for Cleanup: Use a finally block to ensure that cleanup code (such as closing files or releasing resources) is always executed, regardless of whether an exception occurs.\n",
    "\n",
    "5. Avoid Bare except: Avoid using bare except clauses (except:) as they catch all exceptions, including system-exiting exceptions like SystemExit and KeyboardInterrupt.\n",
    "\n",
    "6. Use Multiple except Blocks: Use multiple except blocks to handle different exceptions separately. This improves code readability and allows for specific error handling.\n",
    "\n",
    "7. Use Multiple except Blocks: Use multiple except blocks to handle different exceptions separately. This improves code readability and allows for specific error handling.\n",
    "\n",
    "8. Raise Exceptions Sparingly: Raise exceptions only when necessary, such as when encountering unexpected conditions or errors that the current scope cannot handle.\n",
    "\n",
    "9. Create Custom Exceptions: Define custom exception classes when necessary to represent specific error conditions in your application. This helps in better organizing and handling errors.\n",
    "\n",
    "10. Document Exception Handling: Document the exceptions that functions or methods may raise, along with the circumstances under which they occur. This helps other developers understand how to handle errors in your code.\n",
    "\n",
    "11. Use Context Managers: Use context managers (with statements) to automatically handle resource management and cleanup, especially for file operations, database connections, and locks.\n",
    "\n",
    "12. Test Exception Handling: Write unit tests to ensure that exception handling logic works as expected under different scenarios and edge cases.\n",
    "\n",
    "By following these best practices, you can write cleaner, more robust, and maintainable Python code that handles errors effectively and gracefully.\n"
   ]
  },
  {
   "cell_type": "markdown",
   "id": "7b26ef70-03f8-4e20-8063-575d1b116b58",
   "metadata": {},
   "source": [
    "THANK YOU"
   ]
  },
  {
   "cell_type": "code",
   "execution_count": null,
   "id": "55d1ff16-aa38-44fd-94eb-bc377e2f454e",
   "metadata": {},
   "outputs": [],
   "source": []
  }
 ],
 "metadata": {
  "kernelspec": {
   "display_name": "Python 3 (ipykernel)",
   "language": "python",
   "name": "python3"
  },
  "language_info": {
   "codemirror_mode": {
    "name": "ipython",
    "version": 3
   },
   "file_extension": ".py",
   "mimetype": "text/x-python",
   "name": "python",
   "nbconvert_exporter": "python",
   "pygments_lexer": "ipython3",
   "version": "3.10.8"
  }
 },
 "nbformat": 4,
 "nbformat_minor": 5
}
